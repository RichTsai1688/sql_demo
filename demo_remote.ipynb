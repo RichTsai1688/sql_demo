{
 "cells": [
  {
   "cell_type": "markdown",
   "id": "9c628049",
   "metadata": {},
   "source": [
    "# Demo Remote Notebook\n",
    "此筆記本展示如何使用 Memory_database 中的 `MessageDatabase_remote`。\n",
    "\n",
    "**編輯註解**：\n",
    "- 新增標題與此編輯註解。\n",
    "- 已初始化資料庫並演示訊息新增和讀取。"
   ]
  },
  {
   "cell_type": "markdown",
   "id": "2b5956fa",
   "metadata": {},
   "source": [
    "## 初始環境設定\n",
    "此段程式碼匯入必要模組，並切換工作目錄到 `SQL_chapter` 以便存取資料庫，然後初始化 `MessageDatabase_remote` 實例。\n",
    "\n",
    "**編輯註解**：\n",
    "- 匯入 `os` 模組。\n",
    "- 使用 `os.chdir` 切換工作目錄。\n",
    "- 初始化遠端訊息資料庫實例。"
   ]
  },
  {
   "cell_type": "code",
   "execution_count": null,
   "id": "2a97e3de",
   "metadata": {},
   "outputs": [],
   "source": [
    "import os\n",
    "os.chdir(\"/data/SQL_chapter\")\n",
    "\n",
    "from Memory_database import MessageDatabase_remote\n",
    "\n",
    "mdb = MessageDatabase_remote()"
   ]
  },
  {
   "cell_type": "markdown",
   "id": "a794463d",
   "metadata": {},
   "source": [
    "## 新增訊息示例\n",
    "此段程式碼設定 `session_id`、`group_id`、`role` 與 `content`，並呼叫 `mdb.add_message` 方法將訊息存入資料庫。\n",
    "\n",
    "**編輯註解**：\n",
    "- 定義訊息相關參數。\n",
    "- 將訊息寫入遠端資料庫。"
   ]
  },
  {
   "cell_type": "code",
   "execution_count": 9,
   "id": "bc16c05c",
   "metadata": {},
   "outputs": [],
   "source": [
    "session_id = \"session_1w1jio\"\n",
    "group_id= \"great_FCU\"\n",
    "role = \"James\"\n",
    "content = \"Hello, this is a test message4.\"\n",
    "mdb.add_message(session_id, group_id, role, content)"
   ]
  },
  {
   "cell_type": "markdown",
   "id": "9b2bd003",
   "metadata": {},
   "source": [
    "## 擷取最後訊息\n",
    "使用 `mdb.get_last_messages(session_id, group_id)` 從資料庫中取得指定 session 與 group 的最後幾則訊息，並將結果回傳。\n",
    "\n",
    "**編輯註解**：\n",
    "- 呼叫 `get_last_messages`。\n",
    "- 顯示查詢結果。"
   ]
  },
  {
   "cell_type": "code",
   "execution_count": 10,
   "id": "b304a928",
   "metadata": {},
   "outputs": [
    {
     "data": {
      "text/plain": [
       "[{'role': 'James',\n",
       "  'content': 'Hello, this is a test message3.',\n",
       "  'timestamp': '2025-05-27T20:19:32.805754'},\n",
       " {'role': 'James',\n",
       "  'content': 'Hello, this is a test message4.',\n",
       "  'timestamp': '2025-05-27T20:19:41.244846'}]"
      ]
     },
     "execution_count": 10,
     "metadata": {},
     "output_type": "execute_result"
    }
   ],
   "source": [
    "mdb.get_last_messages(session_id, group_id)"
   ]
  },
  {
   "cell_type": "markdown",
   "id": "28a52971",
   "metadata": {},
   "source": [
    "## 後續操作空間\n",
    "此空白儲存格可用於後續測試或示範更多方法，例如訊息更新、刪除或進階查詢。\n",
    "\n",
    "**編輯註解**：\n",
    "- 作為後續範例或實驗操作的區隔。\n",
    "- 提供擴充空間。"
   ]
  },
  {
   "cell_type": "code",
   "execution_count": null,
   "id": "a2e5f62c",
   "metadata": {},
   "outputs": [],
   "source": []
  }
 ],
 "metadata": {
  "kernelspec": {
   "display_name": "Python 3 (ipykernel)",
   "language": "python",
   "name": "python3"
  }
 },
 "nbformat": 4,
 "nbformat_minor": 5
}
