{
 "cells": [
  {
   "cell_type": "markdown",
   "id": "3cd134e6",
   "metadata": {},
   "source": [
    "# Demo Notebook\n",
    "此筆記本示範如何使用 Memory_database 中的 `MessageDatabase`。\n",
    "\n",
    "**編輯註解**：\n",
    "- 新增標題與此編輯註解。\n",
    "- 已初始化資料庫並展示訊息操作範例。"
   ]
  },
  {
   "cell_type": "code",
   "execution_count": 3,
   "id": "b0254bee",
   "metadata": {},
   "outputs": [],
   "source": [
    "import os\n",
    "os.chdir(\"/data/SQL_demo\")\n",
    "\n",
    "from Memory_database import MessageDatabase\n",
    "\n",
    "mdb = MessageDatabase(db_path='/data/SQL_demo/test_db.db')"
   ]
  },
  {
   "cell_type": "markdown",
   "id": "f40ad5c8",
   "metadata": {},
   "source": [
    "## 初始環境設定\n",
    "此段程式碼匯入必要模組並切換工作目錄，再初始化 `MessageDatabase` 實例。\n",
    "\n",
    "**編輯註解**：\n",
    "- 匯入 `os`。\n",
    "- 使用 `os.chdir` 切換到 `SQL_chapter`。\n",
    "- 初始化本地資料庫連線。"
   ]
  },
  {
   "cell_type": "code",
   "execution_count": 4,
   "id": "95a7b9dc",
   "metadata": {},
   "outputs": [],
   "source": [
    "mdb.session_id=\"s122318u8\"\n",
    "mdb.add_message(role=\"rich\",content=\"Hello, how are you?\")"
   ]
  },
  {
   "cell_type": "markdown",
   "id": "b6988670",
   "metadata": {},
   "source": [
    "## 第一則訊息\n",
    "設定 `session_id` 並呼叫 `add_message` 新增訊息。\n",
    "\n",
    "**編輯註解**：\n",
    "- 定義 Session ID。\n",
    "- 新增一則訊息至資料庫。"
   ]
  },
  {
   "cell_type": "code",
   "execution_count": 5,
   "id": "433cecd5",
   "metadata": {},
   "outputs": [],
   "source": [
    "mdb.add_message(role=\"rich\",content=\"working\")"
   ]
  },
  {
   "cell_type": "markdown",
   "id": "d4672ddf",
   "metadata": {},
   "source": [
    "## 第二則訊息\n",
    "使用相同 Session 再次新增訊息。\n",
    "\n",
    "**編輯註解**：\n",
    "- 重複 `add_message` 呼叫。"
   ]
  },
  {
   "cell_type": "code",
   "execution_count": 6,
   "id": "0346548b",
   "metadata": {},
   "outputs": [],
   "source": [
    "mdb.session_id=\"sa127819\"\n",
    "mdb.add_message(role=\"Emily\",content=\"Office hour\")"
   ]
  },
  {
   "cell_type": "markdown",
   "id": "23679ede",
   "metadata": {},
   "source": [
    "## 不同 Session 新增\n",
    "切換至另一 Session 後新增訊息。\n",
    "\n",
    "**編輯註解**：\n",
    "- 更新 `session_id`。\n",
    "- 在新 Session 中新增訊息。"
   ]
  },
  {
   "cell_type": "code",
   "execution_count": 7,
   "id": "6a24bdcd",
   "metadata": {},
   "outputs": [
    {
     "data": {
      "text/plain": [
       "[{'role': 'Emily', 'content': 'Office hour'}]"
      ]
     },
     "execution_count": 7,
     "metadata": {},
     "output_type": "execute_result"
    }
   ],
   "source": [
    "mdb.get_messages_by_session()"
   ]
  },
  {
   "cell_type": "markdown",
   "id": "d55901ed",
   "metadata": {},
   "source": [
    "## 擷取所有 Session 訊息\n",
    "呼叫 `get_messages_by_session` 取得目前 Session 的所有訊息。\n",
    "\n",
    "**編輯註解**：\n",
    "- 使用預設 Session。\n",
    "- 顯示查詢結果。"
   ]
  },
  {
   "cell_type": "code",
   "execution_count": 8,
   "id": "bf3eb488",
   "metadata": {},
   "outputs": [
    {
     "data": {
      "text/plain": [
       "[{'role': 'rich', 'content': 'Hello, how are you?'},\n",
       " {'role': 'rich', 'content': 'working'}]"
      ]
     },
     "execution_count": 8,
     "metadata": {},
     "output_type": "execute_result"
    }
   ],
   "source": [
    "mdb.session_id=\"s122318u8\"\n",
    "mdb.get_messages_by_session()"
   ]
  },
  {
   "cell_type": "markdown",
   "id": "9c2985d7",
   "metadata": {},
   "source": [
    "## 擷取指定 Session 訊息\n",
    "重新設定 `session_id` 並擷取該 Session 的訊息。\n",
    "\n",
    "**編輯註解**：\n",
    "- 切換到 `s122318u8`。\n",
    "- 查詢對應訊息。"
   ]
  },
  {
   "cell_type": "code",
   "execution_count": 9,
   "id": "ad91f2a4",
   "metadata": {},
   "outputs": [],
   "source": [
    "mdb.delete_messages_by_session()"
   ]
  },
  {
   "cell_type": "markdown",
   "id": "b7f5c182",
   "metadata": {},
   "source": [
    "## 刪除 Session 訊息\n",
    "呼叫 `delete_messages_by_session` 清除當前 Session 的所有訊息。\n",
    "\n",
    "**編輯註解**：\n",
    "- 刪除資料庫中指定 Session 的訊息。"
   ]
  },
  {
   "cell_type": "code",
   "execution_count": null,
   "id": "52cbbe4b",
   "metadata": {},
   "outputs": [],
   "source": []
  },
  {
   "cell_type": "markdown",
   "id": "db4d019f",
   "metadata": {},
   "source": [
    "## 後續操作\n",
    "此空白儲存格可用於其他測試或功能擴充。\n",
    "\n",
    "**編輯註解**：\n",
    "- 預留區塊。"
   ]
  }
 ],
 "metadata": {
  "kernelspec": {
   "display_name": "Python 3 (ipykernel)",
   "language": "python",
   "name": "python3"
  },
  "language_info": {
   "codemirror_mode": {
    "name": "ipython",
    "version": 3
   },
   "file_extension": ".py",
   "mimetype": "text/x-python",
   "name": "python",
   "nbconvert_exporter": "python",
   "pygments_lexer": "ipython3",
   "version": "3.11.0rc1"
  }
 },
 "nbformat": 4,
 "nbformat_minor": 5
}
